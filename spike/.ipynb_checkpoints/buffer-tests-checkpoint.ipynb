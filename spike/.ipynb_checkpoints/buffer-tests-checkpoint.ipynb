{
 "cells": [
  {
   "cell_type": "markdown",
   "metadata": {},
   "source": [
    "# Table of Contents\n",
    "  - [ Buffer Testing](#_buffer testing) \n"
   ]
  },
  {
   "cell_type": "markdown",
   "metadata": {},
   "source": [
    "## Buffer Testing<a name=\"_buffer testing\"></a>"
   ]
  },
  {
   "cell_type": "markdown",
   "metadata": {},
   "source": [
    "The 'example.bin' data file used by this notebook was developed using a C++ program."
   ]
  },
  {
   "cell_type": "code",
   "execution_count": 1,
   "metadata": {},
   "outputs": [
    {
     "data": {
      "text/plain": [
       "undefined"
      ]
     },
     "execution_count": 1,
     "metadata": {},
     "output_type": "execute_result"
    }
   ],
   "source": [
    "var openFile = (file) => {\n",
    "  var raw = fs.readFileSync(file);\n",
    "  console.log(raw);// Log files to console\n",
    "  return raw;\n",
    "};"
   ]
  },
  {
   "cell_type": "code",
   "execution_count": 2,
   "metadata": {},
   "outputs": [
    {
     "name": "stdout",
     "output_type": "stream",
     "text": [
      "<Buffer 2b 00 00 00 54 68 65 72 65 20 77 65 72 65 20 61 63 74 75 61 6c 6c 79 20 34 32 20 70 69 67 65 6f 6e 73 2e 0a 2b 00 00 00 d0 0f 49 40 00 00 20 a8 fd 5b ... >\n"
     ]
    },
    {
     "data": {
      "text/plain": [
       "undefined"
      ]
     },
     "execution_count": 2,
     "metadata": {},
     "output_type": "execute_result"
    }
   ],
   "source": [
    "// Get the raw data, show it and assign it to var data \n",
    "// This is a reference copy and the original might be modified.\n",
    "const data = openFile('example.bin');"
   ]
  },
  {
   "cell_type": "code",
   "execution_count": 3,
   "metadata": {},
   "outputs": [
    {
     "data": {
      "text/plain": [
       "'+\\u0000\\u0000\\u0000There were actually 42 pigeons.\\n+\\u0000\\u0000\\u0000P\\u000fI@\\u0000\\u0000 (}[ZB\\u0000\\u0016THE END!!!\\n\\u0000\\u0000\\u0000\\u0000\\u0000\\u0000\\u0000\\u0000\\u0000\\u0000\\u0000\\u0000'"
      ]
     },
     "execution_count": 3,
     "metadata": {},
     "output_type": "execute_result"
    }
   ],
   "source": [
    "// Show the data as a string\n",
    "data.toString('ascii');"
   ]
  },
  {
   "cell_type": "code",
   "execution_count": 4,
   "metadata": {},
   "outputs": [
    {
     "name": "stdout",
     "output_type": "stream",
     "text": [
      "77 bytes.\n",
      "\n"
     ]
    },
    {
     "data": {
      "text/plain": [
       "undefined"
      ]
     },
     "execution_count": 4,
     "metadata": {},
     "output_type": "execute_result"
    }
   ],
   "source": [
    "// Byte sized\n",
    "console.log(Buffer.byteLength(data, 'utf8') + \" bytes.\\n\");"
   ]
  },
  {
   "cell_type": "code",
   "execution_count": 5,
   "metadata": {},
   "outputs": [
    {
     "name": "stdout",
     "output_type": "stream",
     "text": [
      "true\n"
     ]
    },
    {
     "data": {
      "text/plain": [
       "undefined"
      ]
     },
     "execution_count": 5,
     "metadata": {},
     "output_type": "execute_result"
    }
   ],
   "source": [
    "// Is it a buffer?\n",
    "console.log(Buffer.isBuffer(data));"
   ]
  },
  {
   "cell_type": "code",
   "execution_count": null,
   "metadata": {},
   "outputs": [],
   "source": [
    "// Log the entire contents of a buffer\n",
    "for (var pair of data.entries()){\n",
    "  console.log(pair);\n",
    "}"
   ]
  },
  {
   "cell_type": "code",
   "execution_count": 7,
   "metadata": {},
   "outputs": [
    {
     "name": "stdout",
     "output_type": "stream",
     "text": [
      "{\"type\":\"Buffer\",\"data\":[43,0,0,0,84,104,101,114,101,32,119,101,114,101,32,97,99,116,117,97,108,108,121,32,52,50,32,112,105,103,101,111,110,115,46,10,43,0,0,0,208,15,73,64,0,0,32,168,253,91,90,66,0,22,84,72,69,32,69,78,68,33,33,33,10,0,0,0,0,0,0,0,0,0,0,0,0]}\n"
     ]
    },
    {
     "data": {
      "text/plain": [
       "undefined"
      ]
     },
     "execution_count": 7,
     "metadata": {},
     "output_type": "execute_result"
    }
   ],
   "source": [
    "// Convert a buffer into a JSON object\n",
    "var json = JSON.stringify(data);\n",
    "console.log(json);"
   ]
  },
  {
   "cell_type": "code",
   "execution_count": 8,
   "metadata": {},
   "outputs": [
    {
     "name": "stdout",
     "output_type": "stream",
     "text": [
      "<Buffer 2b 00 00 00 54 68 65 72 65 20 77 65 72 65 20 61 63 74 75 61 6c 6c 79 20 34 32 20 70 69 67 65 6f 6e 73 2e 0a 2b 00 00 00 d0 0f 49 40 00 00 20 a8 fd 5b ... >\n"
     ]
    },
    {
     "data": {
      "text/plain": [
       "undefined"
      ]
     },
     "execution_count": 8,
     "metadata": {},
     "output_type": "execute_result"
    }
   ],
   "source": [
    "// Creating a copy of a buffer after JSON parsng it\n",
    "var json_copy = JSON.parse(json, (key, value) => {\n",
    "  return value && value.type === 'Buffer' ? Buffer.from(value.data) : value;\n",
    "});\n",
    "console.log(json_copy);"
   ]
  },
  {
   "cell_type": "code",
   "execution_count": 9,
   "metadata": {},
   "outputs": [
    {
     "name": "stdout",
     "output_type": "stream",
     "text": [
      "43\n"
     ]
    },
    {
     "data": {
      "text/plain": [
       "undefined"
      ]
     },
     "execution_count": 9,
     "metadata": {},
     "output_type": "execute_result"
    }
   ],
   "source": [
    "// Reading an int from an arbitrary place in a buffer\n",
    "// readIntBE for Big Endian\n",
    "// readIntLE for Little Endian\n",
    "console.log(data.readUIntLE(36, 4));"
   ]
  },
  {
   "cell_type": "code",
   "execution_count": 10,
   "metadata": {},
   "outputs": [
    {
     "name": "stdout",
     "output_type": "stream",
     "text": [
      "43\n"
     ]
    },
    {
     "data": {
      "text/plain": [
       "undefined"
      ]
     },
     "execution_count": 10,
     "metadata": {},
     "output_type": "execute_result"
    }
   ],
   "source": [
    "// Reading an unsigned int from an arbitrary place in a buffer\n",
    "// readUIntBE for Big Endian\n",
    "// readUIntLE for Little Endian\n",
    "console.log(data.readUIntLE(36, 4));"
   ]
  },
  {
   "cell_type": "code",
   "execution_count": 11,
   "metadata": {},
   "outputs": [
    {
     "name": "stdout",
     "output_type": "stream",
     "text": [
      "452850000000\n"
     ]
    },
    {
     "data": {
      "text/plain": [
       "undefined"
      ]
     },
     "execution_count": 11,
     "metadata": {},
     "output_type": "execute_result"
    }
   ],
   "source": [
    "// Reading a double from an arbitrary place in a buffer\n",
    "// readDoubleBE for Big Endian\n",
    "// readDoubleLE for Little Endian\n",
    "console.log(data.readDoubleLE(44));"
   ]
  },
  {
   "cell_type": "code",
   "execution_count": 12,
   "metadata": {},
   "outputs": [
    {
     "name": "stdout",
     "output_type": "stream",
     "text": [
      "3.141590118408203\n"
     ]
    },
    {
     "data": {
      "text/plain": [
       "undefined"
      ]
     },
     "execution_count": 12,
     "metadata": {},
     "output_type": "execute_result"
    }
   ],
   "source": [
    "// Reading a float from an arbitrary place in a buffer\n",
    "// readFloatBE for Big Endian\n",
    "// readFloatLE for Little Endian\n",
    "console.log(data.readFloatLE(40));"
   ]
  },
  {
   "cell_type": "code",
   "execution_count": 13,
   "metadata": {},
   "outputs": [
    {
     "name": "stdout",
     "output_type": "stream",
     "text": [
      "<Buffer 4e 6f 64 65 2e 6a 73>\n",
      "78\n"
     ]
    },
    {
     "data": {
      "text/plain": [
       "undefined"
      ]
     },
     "execution_count": 13,
     "metadata": {},
     "output_type": "execute_result"
    }
   ],
   "source": [
    "var str = 'Node.js';\n",
    "var buffy = Buffer.allocUnsafe(str.length);\n",
    "\n",
    "for (var i = 0; i < str.length; i++) {\n",
    "  buffy[i] = str.charCodeAt(i);\n",
    "}\n",
    "\n",
    "// Outputs buffer\n",
    "console.log(buffy);\n",
    "// Outputs ASCII char code of index. \n",
    "// In this case 78 is printed since that's the char code for 'N'\n",
    "console.log(buffy[0]);"
   ]
  },
  {
   "cell_type": "code",
   "execution_count": null,
   "metadata": {
    "collapsed": true
   },
   "outputs": [],
   "source": []
  }
 ],
 "metadata": {
  "kernelspec": {
   "display_name": "Javascript (Node.js)",
   "language": "javascript",
   "name": "javascript"
  },
  "language_info": {
   "file_extension": ".js",
   "mimetype": "application/javascript",
   "name": "javascript",
   "version": "6.10.3"
  }
 },
 "nbformat": 4,
 "nbformat_minor": 2
}
