{
 "cells": [
  {
   "cell_type": "markdown",
   "metadata": {},
   "source": [
    "# Table of Contents\n",
    "                                                                                    - [_buffer testing) \n",
    "](#_buffer_testing) \n",
    ") \n",
    "  - [ Buffer Testing](#_buffer testing) \n"
   ]
  },
  {
   "cell_type": "markdown",
   "metadata": {},
   "source": [
    "# Table of Contents\n",
    "  - [ Buffer Testing](#_buffer testing) \n",
    "<a name=\"_buffer_testing) \n",
    "\"></a>"
   ]
  },
  {
   "cell_type": "markdown",
   "metadata": {},
   "source": [
    "## Buffer Testing<a name=\"_buffer testing\"></a><a name=\"_buffer testing\"></a>"
   ]
  },
  {
   "cell_type": "markdown",
   "metadata": {},
   "source": [
    "The 'example.bin' data file used by this notebook was developed using a C++ program."
   ]
  },
  {
   "cell_type": "code",
   "execution_count": 3,
   "metadata": {},
   "outputs": [
    {
     "data": {
      "text/plain": [
       "undefined"
      ]
     },
     "execution_count": 3,
     "metadata": {},
     "output_type": "execute_result"
    }
   ],
   "source": [
    "var openFile = (file) => {\n",
    "  var raw = fs.readFileSync(file);\n",
    "  console.log(raw);// Log files to console\n",
    "  return raw;\n",
    "};"
   ]
  },
  {
   "cell_type": "code",
   "execution_count": 4,
   "metadata": {},
   "outputs": [
    {
     "name": "stdout",
     "output_type": "stream",
     "text": [
      "<Buffer 2b 00 00 00 54 68 65 72 65 20 77 65 72 65 20 61 63 74 75 61 6c 6c 79 20 34 32 20 70 69 67 65 6f 6e 73 2e 0a 2b 00 00 00 d0 0f 49 40 00 00 20 a8 fd 5b ... >\n"
     ]
    },
    {
     "data": {
      "text/plain": [
       "undefined"
      ]
     },
     "execution_count": 4,
     "metadata": {},
     "output_type": "execute_result"
    }
   ],
   "source": [
    "// Get the raw data, show it and assign it to var data \n",
    "// This is a reference copy and the original might be modified.\n",
    "const data = openFile('example.bin');"
   ]
  },
  {
   "cell_type": "code",
   "execution_count": 5,
   "metadata": {},
   "outputs": [
    {
     "data": {
      "text/plain": [
       "'+\\u0000\\u0000\\u0000There were actually 42 pigeons.\\n+\\u0000\\u0000\\u0000�\\u000fI@\\u0000\\u0000 ��[ZB\\u0000\\u0016THE END!!!\\n\\u0000\\u0000\\u0000\\u0000\\u0000\\u0000\\u0000\\u0000\\u0000\\u0000\\u0000\\u0000'"
      ]
     },
     "execution_count": 5,
     "metadata": {},
     "output_type": "execute_result"
    }
   ],
   "source": [
    "// Show the data as a string\n",
    "data.toString();"
   ]
  },
  {
   "cell_type": "code",
   "execution_count": 6,
   "metadata": {},
   "outputs": [
    {
     "name": "stdout",
     "output_type": "stream",
     "text": [
      "77 bytes.\n",
      "\n"
     ]
    },
    {
     "data": {
      "text/plain": [
       "undefined"
      ]
     },
     "execution_count": 6,
     "metadata": {},
     "output_type": "execute_result"
    }
   ],
   "source": [
    "// Byte sized\n",
    "console.log(Buffer.byteLength(data, 'utf8') + \" bytes.\\n\");"
   ]
  },
  {
   "cell_type": "code",
   "execution_count": 7,
   "metadata": {},
   "outputs": [
    {
     "name": "stdout",
     "output_type": "stream",
     "text": [
      "77\n",
      "\n",
      "43\n",
      "0\n",
      "0\n",
      "0\n",
      "84\n",
      "104\n",
      "101\n",
      "114\n",
      "101\n",
      "32\n",
      "119\n",
      "101\n",
      "114\n",
      "101\n",
      "32\n",
      "97\n",
      "99\n",
      "116\n",
      "117\n",
      "97\n",
      "108\n",
      "108\n",
      "121\n",
      "32\n",
      "52\n",
      "50\n",
      "32\n",
      "112\n",
      "105\n",
      "103\n",
      "101\n",
      "111\n",
      "110\n",
      "115\n",
      "46\n",
      "10\n",
      "43\n",
      "0\n",
      "0\n",
      "0\n",
      "208\n",
      "15\n",
      "73\n",
      "64\n",
      "0\n",
      "0\n",
      "32\n",
      "168\n",
      "253\n",
      "91\n",
      "90\n",
      "66\n",
      "0\n",
      "22\n",
      "84\n",
      "72\n",
      "69\n",
      "32\n",
      "69\n",
      "78\n",
      "68\n",
      "33\n",
      "33\n",
      "33\n",
      "10\n",
      "0\n",
      "0\n",
      "0\n",
      "0\n",
      "0\n",
      "0\n",
      "0\n",
      "0\n",
      "0\n",
      "0\n",
      "0\n",
      "0\n"
     ]
    },
    {
     "data": {
      "text/plain": [
       "undefined"
      ]
     },
     "execution_count": 7,
     "metadata": {},
     "output_type": "execute_result"
    }
   ],
   "source": [
    "console.log(data.length + '\\n');\n",
    "for (i = 0; i < data.length; i++) { \n",
    "  console.log(data[i].toString());\n",
    "};"
   ]
  },
  {
   "cell_type": "code",
   "execution_count": 8,
   "metadata": {},
   "outputs": [
    {
     "data": {
      "text/plain": [
       "'+   There were actually 42 pigeons.\\n+   Ð\\u000fI@   ¨ý[ZB \\u0016THE END!!!\\n            '"
      ]
     },
     "execution_count": 8,
     "metadata": {},
     "output_type": "execute_result"
    }
   ],
   "source": [
    "function bin2String(data) {\n",
    "  var result = \"\";\n",
    "  for (var i = 0; i < data.length; i++) {\n",
    "    if (data[i] == 0)\n",
    "      result += \" \"\n",
    "    else\n",
    "      result += String.fromCharCode(parseInt(data[i]));\n",
    "  }\n",
    "  return result;\n",
    "}\n",
    "\n",
    "bin2String(data);"
   ]
  },
  {
   "cell_type": "code",
   "execution_count": 25,
   "metadata": {},
   "outputs": [
    {
     "data": {
      "text/plain": [
       "'+'"
      ]
     },
     "execution_count": 25,
     "metadata": {},
     "output_type": "execute_result"
    }
   ],
   "source": [
    "'+'.toString(16).length"
   ]
  },
  {
   "cell_type": "code",
   "execution_count": 26,
   "metadata": {},
   "outputs": [
    {
     "name": "stdout",
     "output_type": "stream",
     "text": [
      "2b 0 0  546865  652077  726520  637475  6c6c79  343220  696765  6e732e  2b 0 0  d0 f49   0 020  fd5b5a   01654  452045  442121   a 0 0   0 0 0   0 0 0   0\n"
     ]
    },
    {
     "data": {
      "text/plain": [
       "undefined"
      ]
     },
     "execution_count": 26,
     "metadata": {},
     "output_type": "execute_result"
    }
   ],
   "source": [
    "var result = '';\n",
    "var j = 1;\n",
    "for (var i = 0; i < data.length; i++) {\n",
    "  if (j % 4 == 0) {\n",
    "    result += '  ';\n",
    "  } else {\n",
    "    if (data[i].toString(16).length == 1) {\n",
    "      result +=' ';\n",
    "    }\n",
    "    result += data[i].toString(16);\n",
    "    j++;\n",
    "  }\n",
    "  // console.log(data[i].toString(16));\n",
    "}\n",
    "console.log(result);"
   ]
  },
  {
   "cell_type": "code",
   "execution_count": 10,
   "metadata": {},
   "outputs": [
    {
     "name": "stdout",
     "output_type": "stream",
     "text": [
      "true\n"
     ]
    },
    {
     "data": {
      "text/plain": [
       "undefined"
      ]
     },
     "execution_count": 10,
     "metadata": {},
     "output_type": "execute_result"
    }
   ],
   "source": [
    "// Is it a buffer?\n",
    "console.log(Buffer.isBuffer(data));"
   ]
  },
  {
   "cell_type": "code",
   "execution_count": null,
   "metadata": {
    "collapsed": true
   },
   "outputs": [],
   "source": [
    "// Log the entire contents of a buffer\n",
    "for (var pair of data.entries()){\n",
    "  console.log(pair);\n",
    "}"
   ]
  },
  {
   "cell_type": "code",
   "execution_count": 7,
   "metadata": {},
   "outputs": [
    {
     "name": "stdout",
     "output_type": "stream",
     "text": [
      "{\"type\":\"Buffer\",\"data\":[43,0,0,0,84,104,101,114,101,32,119,101,114,101,32,97,99,116,117,97,108,108,121,32,52,50,32,112,105,103,101,111,110,115,46,10,43,0,0,0,208,15,73,64,0,0,32,168,253,91,90,66,0,22,84,72,69,32,69,78,68,33,33,33,10,0,0,0,0,0,0,0,0,0,0,0,0]}\n"
     ]
    },
    {
     "data": {
      "text/plain": [
       "undefined"
      ]
     },
     "execution_count": 7,
     "metadata": {},
     "output_type": "execute_result"
    }
   ],
   "source": [
    "// Convert a buffer into a JSON object\n",
    "var json = JSON.stringify(data);\n",
    "console.log(json);"
   ]
  },
  {
   "cell_type": "code",
   "execution_count": 8,
   "metadata": {},
   "outputs": [
    {
     "name": "stdout",
     "output_type": "stream",
     "text": [
      "<Buffer 2b 00 00 00 54 68 65 72 65 20 77 65 72 65 20 61 63 74 75 61 6c 6c 79 20 34 32 20 70 69 67 65 6f 6e 73 2e 0a 2b 00 00 00 d0 0f 49 40 00 00 20 a8 fd 5b ... >\n"
     ]
    },
    {
     "data": {
      "text/plain": [
       "undefined"
      ]
     },
     "execution_count": 8,
     "metadata": {},
     "output_type": "execute_result"
    }
   ],
   "source": [
    "// Creating a copy of a buffer after JSON parsng it\n",
    "var json_copy = JSON.parse(json, (key, value) => {\n",
    "  return value && value.type === 'Buffer' ? Buffer.from(value.data) : value;\n",
    "});\n",
    "console.log(json_copy);"
   ]
  },
  {
   "cell_type": "code",
   "execution_count": 9,
   "metadata": {},
   "outputs": [
    {
     "name": "stdout",
     "output_type": "stream",
     "text": [
      "43\n"
     ]
    },
    {
     "data": {
      "text/plain": [
       "undefined"
      ]
     },
     "execution_count": 9,
     "metadata": {},
     "output_type": "execute_result"
    }
   ],
   "source": [
    "// Reading an int from an arbitrary place in a buffer\n",
    "// readIntBE for Big Endian\n",
    "// readIntLE for Little Endian\n",
    "console.log(data.readUIntLE(36, 4));"
   ]
  },
  {
   "cell_type": "code",
   "execution_count": 10,
   "metadata": {},
   "outputs": [
    {
     "name": "stdout",
     "output_type": "stream",
     "text": [
      "43\n"
     ]
    },
    {
     "data": {
      "text/plain": [
       "undefined"
      ]
     },
     "execution_count": 10,
     "metadata": {},
     "output_type": "execute_result"
    }
   ],
   "source": [
    "// Reading an unsigned int from an arbitrary place in a buffer\n",
    "// readUIntBE for Big Endian\n",
    "// readUIntLE for Little Endian\n",
    "console.log(data.readUIntLE(36, 4));"
   ]
  },
  {
   "cell_type": "code",
   "execution_count": 11,
   "metadata": {},
   "outputs": [
    {
     "name": "stdout",
     "output_type": "stream",
     "text": [
      "452850000000\n"
     ]
    },
    {
     "data": {
      "text/plain": [
       "undefined"
      ]
     },
     "execution_count": 11,
     "metadata": {},
     "output_type": "execute_result"
    }
   ],
   "source": [
    "// Reading a double from an arbitrary place in a buffer\n",
    "// readDoubleBE for Big Endian\n",
    "// readDoubleLE for Little Endian\n",
    "console.log(data.readDoubleLE(44));"
   ]
  },
  {
   "cell_type": "code",
   "execution_count": 12,
   "metadata": {},
   "outputs": [
    {
     "name": "stdout",
     "output_type": "stream",
     "text": [
      "3.141590118408203\n"
     ]
    },
    {
     "data": {
      "text/plain": [
       "undefined"
      ]
     },
     "execution_count": 12,
     "metadata": {},
     "output_type": "execute_result"
    }
   ],
   "source": [
    "// Reading a float from an arbitrary place in a buffer\n",
    "// readFloatBE for Big Endian\n",
    "// readFloatLE for Little Endian\n",
    "console.log(data.readFloatLE(40));"
   ]
  },
  {
   "cell_type": "code",
   "execution_count": 13,
   "metadata": {},
   "outputs": [
    {
     "name": "stdout",
     "output_type": "stream",
     "text": [
      "<Buffer 4e 6f 64 65 2e 6a 73>\n",
      "78\n"
     ]
    },
    {
     "data": {
      "text/plain": [
       "undefined"
      ]
     },
     "execution_count": 13,
     "metadata": {},
     "output_type": "execute_result"
    }
   ],
   "source": [
    "var str = 'Node.js';\n",
    "var buffy = Buffer.allocUnsafe(str.length);\n",
    "\n",
    "for (var i = 0; i < str.length; i++) {\n",
    "  buffy[i] = str.charCodeAt(i);\n",
    "}\n",
    "\n",
    "// Outputs buffer\n",
    "console.log(buffy);\n",
    "// Outputs ASCII char code of index. \n",
    "// In this case 78 is printed since that's the char code for 'N'\n",
    "console.log(buffy[0]);"
   ]
  },
  {
   "cell_type": "code",
   "execution_count": null,
   "metadata": {
    "collapsed": true
   },
   "outputs": [],
   "source": []
  }
 ],
 "metadata": {
  "kernelspec": {
   "display_name": "Javascript (Node.js)",
   "language": "javascript",
   "name": "javascript"
  },
  "language_info": {
   "file_extension": ".js",
   "mimetype": "application/javascript",
   "name": "javascript",
   "version": "6.10.3"
  }
 },
 "nbformat": 4,
 "nbformat_minor": 2
}
