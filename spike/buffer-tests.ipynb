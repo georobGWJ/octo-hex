{
 "cells": [
  {
   "cell_type": "markdown",
   "metadata": {},
   "source": [
    "## Buffer Testing"
   ]
  },
  {
   "cell_type": "code",
   "execution_count": 7,
   "metadata": {},
   "outputs": [
    {
     "data": {
      "text/plain": [
       "undefined"
      ]
     },
     "execution_count": 7,
     "metadata": {},
     "output_type": "execute_result"
    }
   ],
   "source": [
    "var openFile = (file) => {\n",
    "  var raw = fs.readFileSync(file);\n",
    "  console.log(raw);// Log files to console\n",
    "  return raw;\n",
    "};"
   ]
  },
  {
   "cell_type": "code",
   "execution_count": 8,
   "metadata": {},
   "outputs": [
    {
     "name": "stdout",
     "output_type": "stream",
     "text": [
      "<Buffer 4a 0f b8 7d f3 de fc d5 08 40 1e 97 08 a4 13 fb fb 7c 92 00 6e e9 22 7d 42 20 6f ad 3a 77 d2 a2 44 5b 80 53 40 75 82 66 c4 68 ed f9 4b 82 9c 62 14 97 ... >\n"
     ]
    },
    {
     "data": {
      "text/plain": [
       "undefined"
      ]
     },
     "execution_count": 8,
     "metadata": {},
     "output_type": "execute_result"
    }
   ],
   "source": [
    "var data = openFile('best.bin')  // Get the raw data, show it and ass"
   ]
  },
  {
   "cell_type": "code",
   "execution_count": 10,
   "metadata": {},
   "outputs": [
    {
     "data": {
      "text/plain": [
       "'J\\u000f�}����\\b@\\u001e�\\b�\\u0013��|�\\u0000n�\"}B o�:wҢD[�S@u�f�h��K��b\\u0014��&��NZb[�\\u0019\\u0015my���1�K������.H�4\\u0010�OAr��~�Rz���pY�a�\\u0001�There were actually 42 sea turtles!!'"
      ]
     },
     "execution_count": 10,
     "metadata": {},
     "output_type": "execute_result"
    }
   ],
   "source": [
    "data.toString();"
   ]
  },
  {
   "cell_type": "code",
   "execution_count": null,
   "metadata": {
    "collapsed": true
   },
   "outputs": [],
   "source": []
  }
 ],
 "metadata": {
  "kernelspec": {
   "display_name": "Javascript (Node.js)",
   "language": "javascript",
   "name": "javascript"
  },
  "language_info": {
   "file_extension": ".js",
   "mimetype": "application/javascript",
   "name": "javascript",
   "version": "6.10.3"
  }
 },
 "nbformat": 4,
 "nbformat_minor": 2
}
