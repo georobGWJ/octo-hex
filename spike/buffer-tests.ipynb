{
 "cells": [
  {
   "cell_type": "markdown",
   "metadata": {},
   "source": [
    "# Table of Contents\n",
    "  - [ Buffer Testing](#_buffer testing) \n"
   ]
  },
  {
   "cell_type": "markdown",
   "metadata": {},
   "source": [
    "## Buffer Testing<a name=\"_buffer testing\"></a>"
   ]
  },
  {
   "cell_type": "markdown",
   "metadata": {},
   "source": [
    "The 'example.bin' data file used by this notebook was developed using a C++ program."
   ]
  },
  {
   "cell_type": "code",
   "execution_count": 1,
   "metadata": {},
   "outputs": [
    {
     "data": {
      "text/plain": [
       "undefined"
      ]
     },
     "execution_count": 1,
     "metadata": {},
     "output_type": "execute_result"
    }
   ],
   "source": [
    "var openFile = (file) => {\n",
    "  var raw = fs.readFileSync(file);\n",
    "  console.log(raw);// Log files to console\n",
    "  return raw;\n",
    "};"
   ]
  },
  {
   "cell_type": "code",
   "execution_count": 2,
   "metadata": {},
   "outputs": [
    {
     "name": "stdout",
     "output_type": "stream",
     "text": [
      "<Buffer 31 00 00 00 00 00 00 00 20 00 00 00 00 00 00 00 c0 26 40 ae e2 7f 00 00 54 68 65 72 65 20 77 65 72 65 20 61 63 74 75 61 6c 6c 79 20 34 32 20 70 69 67 ... >\n"
     ]
    },
    {
     "data": {
      "text/plain": [
       "undefined"
      ]
     },
     "execution_count": 2,
     "metadata": {},
     "output_type": "execute_result"
    }
   ],
   "source": [
    "// Get the raw data, show it and assign it to var data \n",
    "// This is a reference copy and the original might be modified.\n",
    "const data = openFile('example.bin');"
   ]
  },
  {
   "cell_type": "code",
   "execution_count": 7,
   "metadata": {},
   "outputs": [
    {
     "data": {
      "text/plain": [
       "'1\\u0000\\u0000\\u0000\\u0000\\u0000\\u0000\\u0000 \\u0000\\u0000\\u0000\\u0000\\u0000\\u0000\\u0000@&@.b\\u0000\\u0000There were actually 42 pigeons.\\n+\\u0000\\u0000\\u0000P\\u000fI@\\u0000\\u0000 (}[ZB\\u0000\\u0016THE END!!!\\n\\u0000\\u0000\\u0000\\u0000\\u0000\\u0000\\u0000\\u0000\\u0000\\u0000\\u0000\\u0000'"
      ]
     },
     "execution_count": 7,
     "metadata": {},
     "output_type": "execute_result"
    }
   ],
   "source": [
    "// Show the data as a string\n",
    "data.toString('ascii');"
   ]
  },
  {
   "cell_type": "code",
   "execution_count": 4,
   "metadata": {},
   "outputs": [
    {
     "name": "stdout",
     "output_type": "stream",
     "text": [
      "97 bytes.\n",
      "\n"
     ]
    },
    {
     "data": {
      "text/plain": [
       "undefined"
      ]
     },
     "execution_count": 4,
     "metadata": {},
     "output_type": "execute_result"
    }
   ],
   "source": [
    "// Byte sized\n",
    "console.log(Buffer.byteLength(data, 'utf8') + \" bytes.\\n\");"
   ]
  },
  {
   "cell_type": "code",
   "execution_count": 5,
   "metadata": {},
   "outputs": [
    {
     "name": "stdout",
     "output_type": "stream",
     "text": [
      "true\n"
     ]
    },
    {
     "data": {
      "text/plain": [
       "undefined"
      ]
     },
     "execution_count": 5,
     "metadata": {},
     "output_type": "execute_result"
    }
   ],
   "source": [
    "// Is it a buffer?\n",
    "console.log(Buffer.isBuffer(data));"
   ]
  },
  {
   "cell_type": "code",
   "execution_count": 6,
   "metadata": {},
   "outputs": [
    {
     "name": "stdout",
     "output_type": "stream",
     "text": [
      "[ 0, 49 ]\n",
      "[ 1, 0 ]\n",
      "[ 2, 0 ]\n",
      "[ 3, 0 ]\n",
      "[ 4, 0 ]\n",
      "[ 5, 0 ]\n",
      "[ 6, 0 ]\n",
      "[ 7, 0 ]\n",
      "[ 8, 32 ]\n",
      "[ 9, 0 ]\n",
      "[ 10, 0 ]\n",
      "[ 11, 0 ]\n",
      "[ 12, 0 ]\n",
      "[ 13, 0 ]\n",
      "[ 14, 0 ]\n",
      "[ 15, 0 ]\n",
      "[ 16, 192 ]\n",
      "[ 17, 38 ]\n",
      "[ 18, 64 ]\n",
      "[ 19, 174 ]\n",
      "[ 20, 226 ]\n",
      "[ 21, 127 ]\n",
      "[ 22, 0 ]\n",
      "[ 23, 0 ]\n",
      "[ 24, 84 ]\n",
      "[ 25, 104 ]\n",
      "[ 26, 101 ]\n",
      "[ 27, 114 ]\n",
      "[ 28, 101 ]\n",
      "[ 29, 32 ]\n",
      "[ 30, 119 ]\n",
      "[ 31, 101 ]\n",
      "[ 32, 114 ]\n",
      "[ 33, 101 ]\n",
      "[ 34, 32 ]\n",
      "[ 35, 97 ]\n",
      "[ 36, 99 ]\n",
      "[ 37, 116 ]\n",
      "[ 38, 117 ]\n",
      "[ 39, 97 ]\n",
      "[ 40, 108 ]\n",
      "[ 41, 108 ]\n",
      "[ 42, 121 ]\n",
      "[ 43, 32 ]\n",
      "[ 44, 52 ]\n",
      "[ 45, 50 ]\n",
      "[ 46, 32 ]\n",
      "[ 47, 112 ]\n",
      "[ 48, 105 ]\n",
      "[ 49, 103 ]\n",
      "[ 50, 101 ]\n",
      "[ 51, 111 ]\n",
      "[ 52, 110 ]\n",
      "[ 53, 115 ]\n",
      "[ 54, 46 ]\n",
      "[ 55, 10 ]\n",
      "[ 56, 43 ]\n",
      "[ 57, 0 ]\n",
      "[ 58, 0 ]\n",
      "[ 59, 0 ]\n",
      "[ 60, 208 ]\n",
      "[ 61, 15 ]\n",
      "[ 62, 73 ]\n",
      "[ 63, 64 ]\n",
      "[ 64, 0 ]\n",
      "[ 65, 0 ]\n",
      "[ 66, 32 ]\n",
      "[ 67, 168 ]\n",
      "[ 68, 253 ]\n",
      "[ 69, 91 ]\n",
      "[ 70, 90 ]\n",
      "[ 71, 66 ]\n",
      "[ 72, 0 ]\n",
      "[ 73, 22 ]\n",
      "[ 74, 84 ]\n",
      "[ 75, 72 ]\n",
      "[ 76, 69 ]\n",
      "[ 77, 32 ]\n",
      "[ 78, 69 ]\n",
      "[ 79, 78 ]\n",
      "[ 80, 68 ]\n",
      "[ 81, 33 ]\n",
      "[ 82, 33 ]\n",
      "[ 83, 33 ]\n",
      "[ 84, 10 ]\n",
      "[ 85, 0 ]\n",
      "[ 86, 0 ]\n",
      "[ 87, 0 ]\n",
      "[ 88, 0 ]\n",
      "[ 89, 0 ]\n",
      "[ 90, 0 ]\n",
      "[ 91, 0 ]\n",
      "[ 92, 0 ]\n",
      "[ 93, 0 ]\n",
      "[ 94, 0 ]\n",
      "[ 95, 0 ]\n",
      "[ 96, 0 ]\n"
     ]
    },
    {
     "data": {
      "text/plain": [
       "undefined"
      ]
     },
     "execution_count": 6,
     "metadata": {},
     "output_type": "execute_result"
    }
   ],
   "source": [
    "// Log the entire contents of a buffer\n",
    "for (var pair of data.entries()){\n",
    "  console.log(pair);\n",
    "}"
   ]
  },
  {
   "cell_type": "code",
   "execution_count": 6,
   "metadata": {},
   "outputs": [
    {
     "name": "stdout",
     "output_type": "stream",
     "text": [
      "<Buffer 4e 6f 64 65 2e 6a 73>\n",
      "78\n"
     ]
    },
    {
     "data": {
      "text/plain": [
       "undefined"
      ]
     },
     "execution_count": 6,
     "metadata": {},
     "output_type": "execute_result"
    }
   ],
   "source": [
    "var str = 'Node.js';\n",
    "var buffy = Buffer.allocUnsafe(str.length);\n",
    "\n",
    "for (var i = 0; i < str.length; i++) {\n",
    "  buffy[i] = str.charCodeAt(i);\n",
    "}\n",
    "\n",
    "// Outputs buffer\n",
    "console.log(buffy);\n",
    "// Outputs ASCII char code of index. \n",
    "// In this case 78 is printed since that's the char code for 'N'\n",
    "console.log(buffy[0]);"
   ]
  }
 ],
 "metadata": {
  "kernelspec": {
   "display_name": "Javascript (Node.js)",
   "language": "javascript",
   "name": "javascript"
  },
  "language_info": {
   "file_extension": ".js",
   "mimetype": "application/javascript",
   "name": "javascript",
   "version": "6.10.3"
  }
 },
 "nbformat": 4,
 "nbformat_minor": 2
}
